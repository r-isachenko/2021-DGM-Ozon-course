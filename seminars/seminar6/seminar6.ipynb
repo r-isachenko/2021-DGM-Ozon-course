{
 "cells": [
  {
   "cell_type": "markdown",
   "id": "amber-humidity",
   "metadata": {
    "slideshow": {
     "slide_type": "slide"
    }
   },
   "source": [
    "# <center>Deep Generative Models</center>\n",
    "## <center>Seminar 6</center>\n",
    "\n",
    "<center><img src=\"pics/ozonmasterslogo.png\" width=600 height=600 /></center>\n",
    "<center>18.03.2021</center>\n"
   ]
  },
  {
   "cell_type": "markdown",
   "id": "constitutional-pharmacology",
   "metadata": {
    "slideshow": {
     "slide_type": "slide"
    }
   },
   "source": [
    "## Plan\n",
    "\n",
    "- Flows recap\n",
    "- Planar Flow notebook"
   ]
  },
  {
   "cell_type": "markdown",
   "id": "collectible-asian",
   "metadata": {
    "slideshow": {
     "slide_type": "slide"
    }
   },
   "source": [
    "## What flows do we know?"
   ]
  },
  {
   "cell_type": "markdown",
   "id": "competent-distributor",
   "metadata": {
    "slideshow": {
     "slide_type": "fragment"
    }
   },
   "source": [
    "- Planar/Radial flow"
   ]
  },
  {
   "cell_type": "markdown",
   "id": "dietary-external",
   "metadata": {
    "slideshow": {
     "slide_type": "fragment"
    }
   },
   "source": [
    "- NICE/RealNVP/GLOW"
   ]
  },
  {
   "cell_type": "markdown",
   "id": "duplicate-exchange",
   "metadata": {
    "slideshow": {
     "slide_type": "fragment"
    }
   },
   "source": [
    "- MAF/IAF"
   ]
  }
 ],
 "metadata": {
  "celltoolbar": "Slideshow",
  "kernelspec": {
   "display_name": "Python 3",
   "language": "python",
   "name": "python3"
  },
  "language_info": {
   "codemirror_mode": {
    "name": "ipython",
    "version": 3
   },
   "file_extension": ".py",
   "mimetype": "text/x-python",
   "name": "python",
   "nbconvert_exporter": "python",
   "pygments_lexer": "ipython3",
   "version": "3.8.5"
  }
 },
 "nbformat": 4,
 "nbformat_minor": 5
}
