{
 "cells": [
  {
   "cell_type": "markdown",
   "id": "amber-humidity",
   "metadata": {
    "slideshow": {
     "slide_type": "slide"
    }
   },
   "source": [
    "# <center>Deep Generative Models</center>\n",
    "## <center>Seminar 5</center>\n",
    "\n",
    "<center><img src=\"pics/ozonmasterslogo.png\" width=600 height=600 /></center>\n",
    "<center>11.03.2021</center>\n"
   ]
  },
  {
   "cell_type": "markdown",
   "id": "constitutional-pharmacology",
   "metadata": {
    "slideshow": {
     "slide_type": "slide"
    }
   },
   "source": [
    "## Plan\n",
    "\n",
    "- Homework 1\n",
    "- Flows"
   ]
  },
  {
   "cell_type": "markdown",
   "id": "activated-butterfly",
   "metadata": {
    "slideshow": {
     "slide_type": "slide"
    }
   },
   "source": [
    "## General notes\n",
    "\n",
    "- Remove debug cells, we'll penalize it\n",
    "- Before submit: restart the kernel, run all cells in a row, check that everything works\n",
    "- Sumbit .ipynb or .pdf, not .zip"
   ]
  },
  {
   "cell_type": "markdown",
   "id": "proper-barrel",
   "metadata": {
    "slideshow": {
     "slide_type": "slide"
    }
   },
   "source": [
    "## MADE\n",
    "\n",
    "<img src=\"pics/made.png\" width=600 height=600 />"
   ]
  },
  {
   "cell_type": "markdown",
   "id": "toxic-university",
   "metadata": {
    "slideshow": {
     "slide_type": "slide"
    }
   },
   "source": [
    "## Flows\n",
    "\n",
    "Can we made continuous reversible function $f: \\mathbb{R}^2 \\rightarrow \\mathbb{R}$ ?"
   ]
  },
  {
   "cell_type": "markdown",
   "id": "improving-short",
   "metadata": {
    "slideshow": {
     "slide_type": "slide"
    }
   },
   "source": [
    "## Planar Flow\n",
    "\n",
    "\n",
    "$g(\\mathbf{z}) = \\mathbf{z} + \\mathbf{u}h(\\mathbf{w}^T\\mathbf{z} + b)$\n",
    "\n",
    "\n",
    "$\\theta = \\{\\mathbf{u,w} \\in \\mathbb{R}^d, b \\in \\mathbb{R}\\}$"
   ]
  },
  {
   "cell_type": "markdown",
   "id": "convinced-carolina",
   "metadata": {
    "slideshow": {
     "slide_type": "fragment"
    }
   },
   "source": [
    "$\\dfrac{\\partial g(\\mathbf{z}, \\theta)}{\\partial \\mathbf{z}} =  \\mathbf{I} + \\mathbf{u}h'(\\mathbf{w}^T\\mathbf{z} + b)\\mathbf{w}^T$\n",
    "\n",
    "$\\det \\left|\\dfrac{\\partial g(\\mathbf{z}, \\theta)}{\\partial \\mathbf{z}}\\right| =\n",
    "\\left(1 + h'(\\mathbf{w}^T\\mathbf{z} + b)\\mathbf{w}^T\\mathbf{I}^{-1}\\mathbf{u} \\right) \\det(\\mathbf{I}) =\n",
    "1 + h'(\\mathbf{w}^T\\mathbf{z} + b)\\mathbf{w}^T \\mathbf{u}$"
   ]
  },
  {
   "cell_type": "markdown",
   "id": "pressing-thunder",
   "metadata": {
    "slideshow": {
     "slide_type": "slide"
    }
   },
   "source": [
    "Let $h(x) = \\tanh(x)$. When $g(\\mathbf{z}) = \\mathbf{z} + \\mathbf{u}h(\\mathbf{w}^T\\mathbf{z} + b)$ is reversible?\n",
    "\n"
   ]
  },
  {
   "cell_type": "markdown",
   "id": "indoor-appearance",
   "metadata": {
    "slideshow": {
     "slide_type": "fragment"
    }
   },
   "source": [
    "$\\mathbf{w}^T\\mathbf{z} \\geq -1$"
   ]
  },
  {
   "cell_type": "markdown",
   "id": "provincial-enlargement",
   "metadata": {
    "slideshow": {
     "slide_type": "slide"
    }
   },
   "source": [
    "How do we train Flows?"
   ]
  },
  {
   "cell_type": "markdown",
   "id": "employed-first",
   "metadata": {
    "slideshow": {
     "slide_type": "fragment"
    }
   },
   "source": [
    "<img src=\"pics/forwardkl.jpg\" width=800 height=800 />"
   ]
  },
  {
   "cell_type": "markdown",
   "id": "present-catch",
   "metadata": {
    "slideshow": {
     "slide_type": "fragment"
    }
   },
   "source": [
    "<img src=\"pics/reversekl.jpg\" width=800 height=800 />"
   ]
  },
  {
   "cell_type": "markdown",
   "id": "naughty-paintball",
   "metadata": {
    "slideshow": {
     "slide_type": "slide"
    }
   },
   "source": [
    "## Radial Flow\n",
    "\n",
    "$g(\\mathbf{z}, \\theta) = \\mathbf{z} + \\beta h(\\alpha,r)(\\mathbf{z}-\\mathbf{z}_0)$\n",
    "\n",
    "$\\theta = \\{\\alpha \\in \\mathbb{R}^{+}, \\beta \\in \\mathbb{R}, \\mathbf{z}_0 \\in \\mathbb{R}^{d} \\}$\n",
    "\n",
    "$r = ||\\mathbf{z} - \\mathbf{z}_0||$\n",
    "\n",
    "$h(\\alpha, r) = \\dfrac{1}{\\alpha + r}$"
   ]
  },
  {
   "cell_type": "markdown",
   "id": "expired-university",
   "metadata": {
    "slideshow": {
     "slide_type": "slide"
    }
   },
   "source": [
    "$g(\\mathbf{z}, \\theta) = \\mathbf{z} + \\beta h(\\alpha,r)(\\mathbf{z}-\\mathbf{z}_0)$\n",
    "\n",
    "$\\dfrac{\\partial g(\\mathbf{z})}{\\partial \\mathbf{z}} =\n",
    "\\mathbf{I} + \\beta\\left((\\mathbf{z}-\\mathbf{z}_0)h'(\\alpha,r)\\frac{\\partial r}{\\partial \\mathbf{z}} + h(\\alpha,r)\\mathbf{I}\\right)\n",
    "=(1+\\beta h(\\alpha,r))\\mathbf{I} + \\beta h'(\\alpha,r)(\\mathbf{z}-\\mathbf{z}_0)\\frac{(\\mathbf{z}-\\mathbf{z}_0)^T}{||\\mathbf{z}-\\mathbf{z}_0||}$"
   ]
  },
  {
   "cell_type": "markdown",
   "id": "improving-error",
   "metadata": {
    "slideshow": {
     "slide_type": "fragment"
    }
   },
   "source": [
    "$\\det\\dfrac{\\partial f(\\mathbf{z})}{\\partial \\mathbf{z}} =\n",
    "\\left(1 + \\beta h'(\\alpha,r)\\frac{(\\mathbf{z}-\\mathbf{z}_0)^T}{||\\mathbf{z}-\\mathbf{z}_0||}\\frac{\\mathbf{I}}{\\gamma}(\\mathbf{z}-\\mathbf{z}_0)\\right)\\det(\\gamma\\mathbf{I})\n",
    "=\\left(\\frac{1 + \\beta h(\\alpha,r) + \\beta h'(\\alpha,r)||\\mathbf{z}-\\mathbf{z}_0||}{(1+\\beta h(\\alpha,r))}\\right)(1+\\beta h(\\alpha,r))^d\n",
    "=\\left(1 + \\beta h(\\alpha,r) + \\beta h'(\\alpha,r)r\\right)(1+\\beta h(\\alpha,r))^{d-1}$"
   ]
  },
  {
   "cell_type": "markdown",
   "id": "advance-princeton",
   "metadata": {
    "slideshow": {
     "slide_type": "fragment"
    }
   },
   "source": [
    "$g(z)$ is reversible when $\\beta \\geq -\\alpha$"
   ]
  }
 ],
 "metadata": {
  "celltoolbar": "Slideshow",
  "kernelspec": {
   "display_name": "Python 3",
   "language": "python",
   "name": "python3"
  },
  "language_info": {
   "codemirror_mode": {
    "name": "ipython",
    "version": 3
   },
   "file_extension": ".py",
   "mimetype": "text/x-python",
   "name": "python",
   "nbconvert_exporter": "python",
   "pygments_lexer": "ipython3",
   "version": "3.8.5"
  }
 },
 "nbformat": 4,
 "nbformat_minor": 5
}
