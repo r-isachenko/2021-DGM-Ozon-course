{
 "cells": [
  {
   "cell_type": "markdown",
   "id": "amber-humidity",
   "metadata": {
    "slideshow": {
     "slide_type": "slide"
    }
   },
   "source": [
    "# <center>Deep Generative Models</center>\n",
    "## <center>Seminar 13</center>\n",
    "\n",
    "<center><img src=\"pics/ozonmasterslogo.png\" width=600 height=600 /></center>\n",
    "<center>06.05.2021</center>\n"
   ]
  },
  {
   "cell_type": "markdown",
   "id": "ruled-polyester",
   "metadata": {
    "slideshow": {
     "slide_type": "slide"
    }
   },
   "source": [
    "## Plan\n",
    "- Seminars overview"
   ]
  },
  {
   "cell_type": "markdown",
   "id": "basic-disco",
   "metadata": {
    "slideshow": {
     "slide_type": "fragment"
    }
   },
   "source": [
    "- MLE, MAP, MADE\n",
    "- PixelCNN\n",
    "- PCA, pPCA, VAE\n",
    "- EM, VAE\n",
    "- Flow, Forward/Reverse KL\n",
    "- NICE/RealNVP/GLOW\n",
    "- VAE and IWAE\n",
    "- PixelCNN, PixelVAE and Beta-VAE\n",
    "- VanillaGAN\n",
    "- WGAN, WGAN-GP\n",
    "- StyleGAN"
   ]
  },
  {
   "cell_type": "markdown",
   "id": "civic-gospel",
   "metadata": {
    "slideshow": {
     "slide_type": "slide"
    }
   },
   "source": [
    "## Generative models zoo\n",
    "\n",
    "<center><img src=\"pics/GM_zoo.jpg\" width=900 height=900 /></center>"
   ]
  },
  {
   "cell_type": "markdown",
   "id": "intellectual-roommate",
   "metadata": {
    "slideshow": {
     "slide_type": "slide"
    }
   },
   "source": [
    "## Autoregressive models\n",
    "\n",
    "MADE, PixelCNN\n",
    "\n",
    "<table><tr>\n",
    "<td> <img src=\"pics/made.png\" width=600 height=600 /> </td>\n",
    "<td> <img src=\"pics/pixelcnn_slide.jpg\" width=600 height=600 /> </td>\n",
    "</tr></table>"
   ]
  },
  {
   "cell_type": "markdown",
   "id": "compressed-african",
   "metadata": {
    "slideshow": {
     "slide_type": "fragment"
    }
   },
   "source": [
    "- Objective?\n",
    "- Inputs and outputs?\n",
    "- Pros and cons?\n",
    "- Implementation details?"
   ]
  },
  {
   "cell_type": "markdown",
   "id": "liquid-evans",
   "metadata": {
    "slideshow": {
     "slide_type": "slide"
    }
   },
   "source": [
    "## Autoregressive models\n",
    "\n",
    "MADE, PixelCNN\n",
    "\n",
    "<table><tr>\n",
    "<td> <img src=\"pics/made.png\" width=600 height=600 /> </td>\n",
    "<td> <img src=\"pics/pixelcnn_slide.jpg\" width=600 height=600 /> </td>\n",
    "</tr></table>\n",
    "\n",
    "- Likeihood (CrossEntropy)\n",
    "- Input - a sample, output - conditional distribution\n",
    "- Pros:\n",
    "    - powerful model\n",
    "    - tractable density\n",
    "- Cons:\n",
    "    - slow samling"
   ]
  },
  {
   "cell_type": "markdown",
   "id": "nutritional-assault",
   "metadata": {
    "slideshow": {
     "slide_type": "slide"
    }
   },
   "source": [
    "## Flow models\n",
    "\n",
    "Planar/Radial Flow, NICE/RealNVP/GLOW. Key idea?\n",
    "\n",
    "### Planar Flow: \n",
    "\n",
    "$g(\\mathbf{z}) = \\mathbf{z} + \\mathbf{u}h(\\mathbf{w}^T\\mathbf{z} + b)$\n",
    "\n",
    "\n",
    "$\\theta = \\{\\mathbf{u,w} \\in \\mathbb{R}^d, b \\in \\mathbb{R}\\}$\n",
    "\n",
    "\n",
    "\n",
    "### NICE:\n",
    "\n",
    "<left><img src=\"pics/NICE.jpg\" width=500 height=500 /></left>"
   ]
  },
  {
   "cell_type": "markdown",
   "id": "champion-equivalent",
   "metadata": {
    "slideshow": {
     "slide_type": "slide"
    }
   },
   "source": [
    "## Flow models\n",
    "\n",
    "### NICE:\n",
    "\n",
    "<left><img src=\"pics/NICE.jpg\" width=600 height=600 /></left>\n",
    "\n",
    "- Objective?\n",
    "- Inputs and outputs?\n",
    "- Pros and cons?\n",
    "- Implementation details?"
   ]
  },
  {
   "cell_type": "markdown",
   "id": "political-penetration",
   "metadata": {
    "slideshow": {
     "slide_type": "slide"
    }
   },
   "source": [
    "## Flow models\n",
    "\n",
    "\n",
    "<table><tr>\n",
    "<td> <img src=\"pics/forwardkl.jpg\" width=500 height=500 /> </td>\n",
    "<td> <img src=\"pics/reversekl.jpg\" width=600 height=600 /> </td>\n",
    "</tr></table>\n",
    "\n",
    "<table><tr>\n",
    "<td> <img src=\"pics/forward_for_flow.jpg\" width=600 height=600 /> </td>\n",
    "<td> <img src=\"pics/reverse_for_flow.jpg\" width=600 height=600 /> </td>\n",
    "</tr></table>"
   ]
  },
  {
   "cell_type": "markdown",
   "id": "qualified-helmet",
   "metadata": {
    "slideshow": {
     "slide_type": "fragment"
    }
   },
   "source": [
    "<table><tr>\n",
    "<td> <img src=\"pics/forward_list.jpg\" width=300 height=300 /> </td>\n",
    "<td> <img src=\"pics/reverse_list.jpg\" width=300 height=300 /> </td>\n",
    "</tr></table>"
   ]
  },
  {
   "cell_type": "markdown",
   "id": "threatened-magazine",
   "metadata": {
    "slideshow": {
     "slide_type": "skip"
    }
   },
   "source": [
    "Forward KL:\n",
    "- MLE\n",
    "- Density estimation\n",
    "- $f(x)$, Jacobian\n",
    "- $p(z)$"
   ]
  },
  {
   "cell_type": "markdown",
   "id": "generous-roberts",
   "metadata": {
    "slideshow": {
     "slide_type": "skip"
    }
   },
   "source": [
    "Reverse KL:\n",
    "- Not MLE\n",
    "- Sampling from $\\pi$\n",
    "- $g(x)$, Jacobian\n",
    "- $\\pi(z)$\n",
    "- Sample $z$"
   ]
  },
  {
   "cell_type": "markdown",
   "id": "charitable-concentrate",
   "metadata": {
    "slideshow": {
     "slide_type": "slide"
    }
   },
   "source": [
    "## Latent variable models\n",
    "\n",
    "Key idea?"
   ]
  },
  {
   "cell_type": "markdown",
   "id": "double-wrist",
   "metadata": {
    "slideshow": {
     "slide_type": "fragment"
    }
   },
   "source": [
    "### Variational lower bound\n",
    "<left><img src=\"pics/VLB.jpg\" width=800 height=800 /></left>"
   ]
  },
  {
   "cell_type": "markdown",
   "id": "caroline-father",
   "metadata": {
    "slideshow": {
     "slide_type": "slide"
    }
   },
   "source": [
    "### ELBO\n",
    "\n",
    "<left><img src=\"pics/ELBO.jpg\" width=800 height=800 /></left>"
   ]
  },
  {
   "cell_type": "markdown",
   "id": "mathematical-democrat",
   "metadata": {
    "slideshow": {
     "slide_type": "slide"
    }
   },
   "source": [
    "### EM algorithm\n",
    "\n",
    "<left><img src=\"pics/EM_lection.jpg\" width=700 height=700 /></left>"
   ]
  },
  {
   "cell_type": "markdown",
   "id": "informal-terrain",
   "metadata": {
    "slideshow": {
     "slide_type": "fragment"
    }
   },
   "source": [
    "### k-means\n",
    "\n",
    "- Init clusters' centers\n",
    "- E step: for each $x$ get cluster\n",
    "- M step: calculate new clusters' centers"
   ]
  },
  {
   "cell_type": "markdown",
   "id": "north-distinction",
   "metadata": {
    "slideshow": {
     "slide_type": "slide"
    }
   },
   "source": [
    "### VAE\n",
    "\n",
    "<img src=\"pics/vae-gaussian.png\" width=800 height=800 />\n",
    "\n",
    "<img src=\"pics/elbo_vae.png\" width=600 height=600 />"
   ]
  },
  {
   "cell_type": "markdown",
   "id": "driving-cause",
   "metadata": {
    "slideshow": {
     "slide_type": "slide"
    }
   },
   "source": [
    "### IWAE\n",
    "\n",
    "What is it?"
   ]
  },
  {
   "cell_type": "markdown",
   "id": "gross-present",
   "metadata": {
    "slideshow": {
     "slide_type": "fragment"
    }
   },
   "source": [
    "<img src=\"pics/iwae_1.jpg\" width=600 height=600 />"
   ]
  },
  {
   "cell_type": "markdown",
   "id": "black-korean",
   "metadata": {
    "slideshow": {
     "slide_type": "fragment"
    }
   },
   "source": [
    "<img src=\"pics/iwae_1.1.jpg\" width=900 height=900 />"
   ]
  },
  {
   "cell_type": "markdown",
   "id": "hindu-china",
   "metadata": {
    "slideshow": {
     "slide_type": "slide"
    }
   },
   "source": [
    "<img src=\"pics/iwae_2.jpg\" width=900 height=900 />"
   ]
  },
  {
   "cell_type": "markdown",
   "id": "existing-habitat",
   "metadata": {
    "slideshow": {
     "slide_type": "fragment"
    }
   },
   "source": [
    "Why?"
   ]
  },
  {
   "cell_type": "markdown",
   "id": "cardiovascular-halloween",
   "metadata": {
    "slideshow": {
     "slide_type": "fragment"
    }
   },
   "source": [
    "- Better lower bound for $\\log p(x|\\theta)$\n",
    "- If gap is small enough we can report it to compare models"
   ]
  },
  {
   "cell_type": "markdown",
   "id": "historical-tracker",
   "metadata": {
    "slideshow": {
     "slide_type": "fragment"
    }
   },
   "source": [
    "<img src=\"pics/q_ew_results.jpg\" width=900 height=900 />"
   ]
  },
  {
   "cell_type": "markdown",
   "id": "according-tribune",
   "metadata": {
    "slideshow": {
     "slide_type": "slide"
    }
   },
   "source": [
    "### Poserior collapse\n",
    "\n",
    "What is it?"
   ]
  },
  {
   "cell_type": "markdown",
   "id": "sudden-rating",
   "metadata": {
    "slideshow": {
     "slide_type": "fragment"
    }
   },
   "source": [
    "<img src=\"pics/posterior_collapse.jpg\" width=900 height=900 />"
   ]
  },
  {
   "cell_type": "markdown",
   "id": "limiting-hearing",
   "metadata": {
    "slideshow": {
     "slide_type": "slide"
    }
   },
   "source": [
    "### Poserior collapse\n",
    "\n",
    "What we can do?"
   ]
  },
  {
   "cell_type": "markdown",
   "id": "mathematical-timber",
   "metadata": {
    "slideshow": {
     "slide_type": "fragment"
    }
   },
   "source": [
    "- decoder weakening\n",
    "- clip KL (free bits)\n",
    "- weight KL < 1"
   ]
  },
  {
   "cell_type": "markdown",
   "id": "northern-suspension",
   "metadata": {
    "slideshow": {
     "slide_type": "slide"
    }
   },
   "source": [
    "### $\\beta$-VAE\n",
    "\n",
    "$L(q, \\theta) = \\mathbb{E}_{q} \\ln p(x|z, \\theta) - \\beta \\cdot KL(q(z|x)||p(z))$\n",
    "\n",
    "<img src=\"pics/beta_vae_features.jpg\" width=900 height=900 />"
   ]
  },
  {
   "cell_type": "markdown",
   "id": "dress-condition",
   "metadata": {
    "slideshow": {
     "slide_type": "slide"
    }
   },
   "source": [
    "### VAE\n",
    "\n",
    "<img src=\"pics/vae-gaussian.png\" width=800 height=800 />\n",
    "\n",
    "<img src=\"pics/elbo_vae.png\" width=600 height=600 />\n",
    "\n",
    "- Objective - ELBO\n",
    "- Input - sample, output - probabilistic distribution"
   ]
  },
  {
   "cell_type": "markdown",
   "id": "portable-intent",
   "metadata": {
    "slideshow": {
     "slide_type": "slide"
    }
   },
   "source": [
    "## GAN"
   ]
  },
  {
   "cell_type": "markdown",
   "id": "juvenile-lending",
   "metadata": {
    "slideshow": {
     "slide_type": "slide"
    }
   },
   "source": [
    "### Vanilla GAN\n",
    "\n",
    "<img src=\"pics/gan_objective.jpg\" width=900 height=900 />\n",
    "\n",
    "Problems?"
   ]
  },
  {
   "cell_type": "markdown",
   "id": "varying-fundamentals",
   "metadata": {
    "slideshow": {
     "slide_type": "slide"
    }
   },
   "source": [
    "### Forward KL vs Reverse KL vs JSD\n",
    "\n",
    "<img src=\"pics/FKLvsRKLvsJSD.jpg\" width=900 height=900 />"
   ]
  },
  {
   "cell_type": "markdown",
   "id": "metallic-health",
   "metadata": {
    "slideshow": {
     "slide_type": "fragment"
    }
   },
   "source": [
    "Can we make GAN objective better?"
   ]
  },
  {
   "cell_type": "markdown",
   "id": "uniform-triangle",
   "metadata": {
    "slideshow": {
     "slide_type": "slide"
    }
   },
   "source": [
    "### WGAN\n",
    "\n",
    "<img src=\"pics/WGAN_obj.jpg\" width=800 height=800 />\n",
    "<img src=\"pics/WGAN_il.jpg\" width=500 height=500 />"
   ]
  },
  {
   "cell_type": "markdown",
   "id": "registered-switch",
   "metadata": {
    "slideshow": {
     "slide_type": "fragment"
    }
   },
   "source": [
    "- Loss with better convergence\n",
    "- How can we calculate it? Kantorovich-Rubinstein duality, but we need $f$(aka $D$ aka *Critic*) to be Lipschitz\n",
    "- How to do it? $D$ weights clipping"
   ]
  },
  {
   "cell_type": "markdown",
   "id": "aboriginal-sheriff",
   "metadata": {
    "slideshow": {
     "slide_type": "slide"
    }
   },
   "source": [
    "### WGAN\n",
    "\n",
    "<img src=\"pics/WGAN_il.jpg\" width=600 height=600 />\n",
    "\n",
    "Profit:\n",
    "- Better convergence, better samples, no evidence of mode collapse\n",
    "- Correlated with visual realism of pictures loss\n",
    "\n",
    "Not Profit:\n",
    "- Weights clipping"
   ]
  },
  {
   "cell_type": "markdown",
   "id": "completed-computer",
   "metadata": {
    "slideshow": {
     "slide_type": "slide"
    }
   },
   "source": []
  },
  {
   "cell_type": "markdown",
   "id": "analyzed-story",
   "metadata": {
    "slideshow": {
     "slide_type": "slide"
    }
   },
   "source": [
    "### WGAN-GP\n",
    "\n",
    "<img src=\"pics/WGAN-GP_theorem.jpg\" width=800 height=800 />\n",
    "\n",
    "<img src=\"pics/WGAN-GP_obj.jpg\" width=800 height=800 />\n"
   ]
  },
  {
   "cell_type": "markdown",
   "id": "indirect-sterling",
   "metadata": {
    "slideshow": {
     "slide_type": "slide"
    }
   },
   "source": [
    "### WGAN-GP\n",
    "\n",
    "<img src=\"pics/WGAN-GP_obj.jpg\" width=800 height=800 />\n",
    "<img src=\"pics/WGAN-GP_profit.jpg\" width=800 height=800 />\n",
    "\n"
   ]
  },
  {
   "cell_type": "markdown",
   "id": "aging-community",
   "metadata": {
    "slideshow": {
     "slide_type": "slide"
    }
   },
   "source": [
    "### ???"
   ]
  },
  {
   "cell_type": "markdown",
   "id": "american-chart",
   "metadata": {
    "slideshow": {
     "slide_type": "slide"
    }
   },
   "source": [
    "### StyleGAN\n",
    "\n",
    "<center><img src=\"pics/stylegan_scheme.png\" width=800 height=800 /></center>\n",
    "\n",
    "<center><img src=\"pics/stylegan_step_improving.jpg\" width=500 height=500 /></center>"
   ]
  },
  {
   "cell_type": "markdown",
   "id": "twenty-tiger",
   "metadata": {
    "slideshow": {
     "slide_type": "slide"
    }
   },
   "source": [
    "### StyleGAN\n",
    "\n",
    "<center><img src=\"pics/stylegan_scheme.png\" width=600 height=600 /></center>\n",
    "\n",
    "<center><img src=\"pics/stylegan_truncation.png\" width=900 height=900 /></center>"
   ]
  },
  {
   "cell_type": "markdown",
   "id": "formal-section",
   "metadata": {
    "slideshow": {
     "slide_type": "slide"
    }
   },
   "source": [
    "### GAN\n",
    "\n",
    "How to compare it?"
   ]
  },
  {
   "cell_type": "markdown",
   "id": "desperate-silver",
   "metadata": {
    "slideshow": {
     "slide_type": "fragment"
    }
   },
   "source": [
    "- IS, FID"
   ]
  },
  {
   "cell_type": "markdown",
   "id": "unlimited-valve",
   "metadata": {
    "slideshow": {
     "slide_type": "slide"
    }
   },
   "source": [
    "### GAN\n",
    "\n",
    "Pros:\n",
    "- Powerful model, good samles\n",
    "- Flex\n",
    "\n",
    "Cons:\n",
    "- Hard to train"
   ]
  },
  {
   "cell_type": "markdown",
   "id": "built-loading",
   "metadata": {
    "slideshow": {
     "slide_type": "fragment"
    }
   },
   "source": [
    "Applications?"
   ]
  },
  {
   "cell_type": "markdown",
   "id": "related-briefing",
   "metadata": {
    "slideshow": {
     "slide_type": "slide"
    }
   },
   "source": [
    "<center><img src=\"pics/vse.jpg\" width=1200 height=1200 /></center>"
   ]
  }
 ],
 "metadata": {
  "celltoolbar": "Slideshow",
  "kernelspec": {
   "display_name": "Python 3",
   "language": "python",
   "name": "python3"
  },
  "language_info": {
   "codemirror_mode": {
    "name": "ipython",
    "version": 3
   },
   "file_extension": ".py",
   "mimetype": "text/x-python",
   "name": "python",
   "nbconvert_exporter": "python",
   "pygments_lexer": "ipython3",
   "version": "3.8.5"
  }
 },
 "nbformat": 4,
 "nbformat_minor": 5
}
