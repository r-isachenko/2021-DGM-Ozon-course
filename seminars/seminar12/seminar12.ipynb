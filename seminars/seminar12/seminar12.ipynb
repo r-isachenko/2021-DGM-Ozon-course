{
 "cells": [
  {
   "cell_type": "markdown",
   "id": "amber-humidity",
   "metadata": {
    "slideshow": {
     "slide_type": "slide"
    }
   },
   "source": [
    "# <center>Deep Generative Models</center>\n",
    "## <center>Seminar 12</center>\n",
    "\n",
    "<center><img src=\"pics/ozonmasterslogo.png\" width=600 height=600 /></center>\n",
    "<center>29.04.2021</center>\n"
   ]
  },
  {
   "cell_type": "markdown",
   "id": "worldwide-parker",
   "metadata": {
    "slideshow": {
     "slide_type": "slide"
    }
   },
   "source": [
    "## Plan\n",
    "\n",
    "- HW 4\n",
    "- StyleGAN"
   ]
  },
  {
   "cell_type": "markdown",
   "id": "radical-university",
   "metadata": {
    "slideshow": {
     "slide_type": "slide"
    }
   },
   "source": [
    "## StyleGAN\n",
    "\n",
    "https://arxiv.org/pdf/1812.04948.pdf\n",
    "\n",
    "Why?"
   ]
  },
  {
   "cell_type": "markdown",
   "id": "favorite-giant",
   "metadata": {
    "slideshow": {
     "slide_type": "fragment"
    }
   },
   "source": [
    "- Generating of HR images is hard\n",
    "- Progressive growing greatly simplifies the task.\n",
    "- The ability to control specific features of the generated image is very limited."
   ]
  },
  {
   "cell_type": "markdown",
   "id": "excessive-magnet",
   "metadata": {
    "slideshow": {
     "slide_type": "fragment"
    }
   },
   "source": [
    "<img src=\"pics/stylegan_samples.png\" width=800 height=800 />"
   ]
  },
  {
   "cell_type": "markdown",
   "id": "retained-philosophy",
   "metadata": {
    "slideshow": {
     "slide_type": "slide"
    }
   },
   "source": [
    "<center><img src=\"pics/stylegan_scheme.png\" width=800 height=800 /></center>"
   ]
  },
  {
   "cell_type": "markdown",
   "id": "bacterial-minimum",
   "metadata": {
    "slideshow": {
     "slide_type": "slide"
    }
   },
   "source": [
    "### Step 1: Mapping Network\n",
    "\n",
    "- Generator input is likely to be **disentangled**.  Each component of input vector $z$ should be responsible for one generative factor\n",
    "- Mapping network $f: Z \\rightarrow W$ is used to reduce correlations between components of $z$"
   ]
  },
  {
   "cell_type": "markdown",
   "id": "equivalent-partner",
   "metadata": {
    "slideshow": {
     "slide_type": "fragment"
    }
   },
   "source": [
    "<center><img src=\"pics/stylegan_mapping.png\" width=800 height=800 /></center>\n",
    "<center><img src=\"pics/stylegan_curved.png\" width=600 height=600 /></center>"
   ]
  },
  {
   "cell_type": "markdown",
   "id": "further-immigration",
   "metadata": {
    "slideshow": {
     "slide_type": "slide"
    }
   },
   "source": [
    "### Step 2: Style modulation\n",
    "\n",
    "- Adaptive Instance Normalization transfers the $w$ vector to the synthesis Network.\n",
    "- The module is added to each resolution to define the visual expression of the features.\n",
    "\n",
    "<center><img src=\"pics/stylegan_adain.png\" width=1000 height=1000 /></center>"
   ]
  },
  {
   "cell_type": "markdown",
   "id": "coated-sentence",
   "metadata": {
    "slideshow": {
     "slide_type": "slide"
    }
   },
   "source": [
    "### Step 3: Remove traditional input\n",
    "\n",
    "Mapping network provides stochasticity to different stages of the synthesis network. Input of the synthesis network is a trainable vector.\n",
    "\n",
    "<center><img src=\"pics/stylegan_input.png\" width=600 height=600 /></center>"
   ]
  },
  {
   "cell_type": "markdown",
   "id": "expressed-provincial",
   "metadata": {
    "slideshow": {
     "slide_type": "slide"
    }
   },
   "source": [
    "### Step 4: Stochastic variation\n",
    "\n",
    "Inject random noise to add small aspects, such as freckles, exact placement of hairs, wrinkles, features which make the image more realistic and increase the variety of outputs.\n",
    "\n",
    "<center><img src=\"pics/stylegan_noise.png\" width=1000 height=1000 /></center>"
   ]
  },
  {
   "cell_type": "markdown",
   "id": "seeing-situation",
   "metadata": {
    "slideshow": {
     "slide_type": "slide"
    }
   },
   "source": [
    "### Step 4: Style Mixing\n",
    "\n",
    "- Makes different levels of synthesis network to be independent.\n",
    "- Allows to couple diffirent styles\n",
    "\n",
    "<center><img src=\"pics/stylegan_mix_reg.jpeg\" width=1000 height=1000 /></center>"
   ]
  },
  {
   "attachments": {},
   "cell_type": "markdown",
   "id": "above-nebraska",
   "metadata": {
    "slideshow": {
     "slide_type": "slide"
    }
   },
   "source": [
    "### All steps\n",
    "\n",
    "<center><img src=\"pics/stylegan_step_improving.jpg\" width=1000 height=1000 /></center>"
   ]
  },
  {
   "cell_type": "markdown",
   "id": "motivated-breath",
   "metadata": {
    "slideshow": {
     "slide_type": "slide"
    }
   },
   "source": [
    "### Truncation\n",
    "\n",
    "\n",
    "$$ w' = \\hat{w} - \\psi \\cdot (w - \\hat{w}), \\quad \\hat{w} = \\mathbb{E}_{z} p(f(z)) $$\n",
    "\n",
    "\n",
    "- Constant $\\psi$ is a tradeoff between diversity and fidelity. \n",
    "- $\\psi=0.7$ is used for most of the results.\n",
    "- Truncation is done only at the low-resolution layers.\n",
    "\n",
    "<center><img src=\"pics/stylegan_truncation.png\" width=1000 height=1000 /></center>"
   ]
  },
  {
   "cell_type": "markdown",
   "id": "corrected-major",
   "metadata": {
    "slideshow": {
     "slide_type": "slide"
    }
   },
   "source": [
    "### Paper\n",
    "\n",
    "https://arxiv.org/pdf/1812.04948.pdf"
   ]
  },
  {
   "cell_type": "markdown",
   "id": "headed-parameter",
   "metadata": {
    "slideshow": {
     "slide_type": "slide"
    }
   },
   "source": [
    "### Some cartoons\n",
    "\n",
    "https://www.youtube.com/watch?v=kSLJriaOumA&list=LL&index=1"
   ]
  },
  {
   "cell_type": "markdown",
   "id": "heated-gregory",
   "metadata": {
    "slideshow": {
     "slide_type": "slide"
    }
   },
   "source": [
    "<img src=\"pics/stylegan_mix_reg.jpeg\" width=1000 height=1000 />\n",
    "\n",
    "- Why A affects style and B only affects small details?"
   ]
  },
  {
   "cell_type": "markdown",
   "id": "synthetic-notion",
   "metadata": {
    "slideshow": {
     "slide_type": "fragment"
    }
   },
   "source": [
    "- Why A from $W$ affects style and $W$ is a \"style space\"?"
   ]
  },
  {
   "cell_type": "markdown",
   "id": "meaningful-humor",
   "metadata": {},
   "source": [
    "### Some code\n",
    "\n",
    "https://github.com/rosinality/style-based-gan-pytorch"
   ]
  }
 ],
 "metadata": {
  "celltoolbar": "Slideshow",
  "kernelspec": {
   "display_name": "Python 3",
   "language": "python",
   "name": "python3"
  },
  "language_info": {
   "codemirror_mode": {
    "name": "ipython",
    "version": 3
   },
   "file_extension": ".py",
   "mimetype": "text/x-python",
   "name": "python",
   "nbconvert_exporter": "python",
   "pygments_lexer": "ipython3",
   "version": "3.8.5"
  }
 },
 "nbformat": 4,
 "nbformat_minor": 5
}
