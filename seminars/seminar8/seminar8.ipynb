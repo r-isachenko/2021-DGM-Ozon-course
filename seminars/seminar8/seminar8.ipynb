{
 "cells": [
  {
   "cell_type": "markdown",
   "id": "amber-humidity",
   "metadata": {
    "slideshow": {
     "slide_type": "slide"
    }
   },
   "source": [
    "# <center>Deep Generative Models</center>\n",
    "## <center>Seminar 8</center>\n",
    "\n",
    "<center><img src=\"pics/ozonmasterslogo.png\" width=600 height=600 /></center>\n",
    "<center>01.04.2021</center>\n"
   ]
  },
  {
   "cell_type": "markdown",
   "id": "worldwide-parker",
   "metadata": {
    "slideshow": {
     "slide_type": "slide"
    }
   },
   "source": [
    "## Plan\n",
    "\n",
    "- Pixel CNN\n",
    "- Pixel VAE\n",
    "- $\\beta$ - VAE"
   ]
  },
  {
   "cell_type": "markdown",
   "id": "southeast-correction",
   "metadata": {
    "slideshow": {
     "slide_type": "slide"
    }
   },
   "source": [
    "## PixelCNN"
   ]
  },
  {
   "cell_type": "markdown",
   "id": "generous-offense",
   "metadata": {
    "slideshow": {
     "slide_type": "fragment"
    }
   },
   "source": [
    "\n",
    "<right><img src=\"pics/pixelcnn_rastr_ord.png\" width=500 height=500 /></right>\n",
    "\n",
    "$p(\\mathbf{x}) = \\prod_{i=1}^{n^2} p(x_i|x_{1}, \\dots, x_{i-1})$"
   ]
  },
  {
   "cell_type": "markdown",
   "id": "black-importance",
   "metadata": {
    "slideshow": {
     "slide_type": "slide"
    }
   },
   "source": [
    "<center><img src=\"pics/pixelcnn_slide.jpg\" width=1000 height=1000 /></center>"
   ]
  },
  {
   "cell_type": "markdown",
   "id": "thick-debate",
   "metadata": {
    "slideshow": {
     "slide_type": "slide"
    }
   },
   "source": [
    "## VAE\n",
    "\n",
    "<img src=\"pics/vae-gaussian.png\" width=800 height=800 />"
   ]
  },
  {
   "cell_type": "markdown",
   "id": "empty-excuse",
   "metadata": {
    "slideshow": {
     "slide_type": "fragment"
    }
   },
   "source": [
    "$L(q, \\theta) = \\mathbb{E}_{q} \\ln p(x|z, \\theta) - KL(q(z)||p(z))$"
   ]
  },
  {
   "cell_type": "markdown",
   "id": "pacific-report",
   "metadata": {
    "slideshow": {
     "slide_type": "fragment"
    }
   },
   "source": [
    "$L(q, \\theta) = \\mathbb{E}_{q} \\ln p(x|z, \\theta) - \\beta \\cdot KL(q(z)||p(z))$"
   ]
  }
 ],
 "metadata": {
  "celltoolbar": "Slideshow",
  "kernelspec": {
   "display_name": "Python 3",
   "language": "python",
   "name": "python3"
  },
  "language_info": {
   "codemirror_mode": {
    "name": "ipython",
    "version": 3
   },
   "file_extension": ".py",
   "mimetype": "text/x-python",
   "name": "python",
   "nbconvert_exporter": "python",
   "pygments_lexer": "ipython3",
   "version": "3.8.5"
  }
 },
 "nbformat": 4,
 "nbformat_minor": 5
}
