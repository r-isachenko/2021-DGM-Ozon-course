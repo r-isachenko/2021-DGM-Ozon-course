{
 "cells": [
  {
   "cell_type": "markdown",
   "id": "amber-humidity",
   "metadata": {
    "slideshow": {
     "slide_type": "slide"
    }
   },
   "source": [
    "# <center>Deep Generative Models</center>\n",
    "## <center>Seminar 7</center>\n",
    "\n",
    "<center><img src=\"pics/ozonmasterslogo.png\" width=600 height=600 /></center>\n",
    "<center>25.03.2021</center>\n"
   ]
  },
  {
   "cell_type": "markdown",
   "id": "worldwide-parker",
   "metadata": {
    "slideshow": {
     "slide_type": "slide"
    }
   },
   "source": [
    "## Plan\n",
    "\n",
    "- VAE and IWAE"
   ]
  },
  {
   "cell_type": "markdown",
   "id": "thick-debate",
   "metadata": {
    "slideshow": {
     "slide_type": "slide"
    }
   },
   "source": [
    "## VAE\n",
    "\n",
    "<img src=\"pics/vae-gaussian.png\" width=800 height=800 />"
   ]
  },
  {
   "cell_type": "markdown",
   "id": "empty-excuse",
   "metadata": {
    "slideshow": {
     "slide_type": "fragment"
    }
   },
   "source": [
    "$L(q, \\theta) = \\mathbb{E}_{q} \\ln p(x|z, \\theta) - KL(q(z)||p(z))$"
   ]
  },
  {
   "cell_type": "markdown",
   "id": "atlantic-correlation",
   "metadata": {
    "slideshow": {
     "slide_type": "slide"
    }
   },
   "source": [
    "## IWAE\n",
    "\n",
    "What is it?"
   ]
  },
  {
   "cell_type": "markdown",
   "id": "together-occupation",
   "metadata": {
    "slideshow": {
     "slide_type": "fragment"
    }
   },
   "source": [
    "<img src=\"pics/iwae_1.jpg\" width=600 height=600 />"
   ]
  },
  {
   "cell_type": "markdown",
   "id": "authentic-pursuit",
   "metadata": {
    "slideshow": {
     "slide_type": "fragment"
    }
   },
   "source": [
    "<img src=\"pics/iwae_1.1.jpg\" width=900 height=900 />"
   ]
  },
  {
   "cell_type": "markdown",
   "id": "distinguished-secret",
   "metadata": {
    "slideshow": {
     "slide_type": "slide"
    }
   },
   "source": [
    "<img src=\"pics/iwae_2.jpg\" width=900 height=900 />"
   ]
  },
  {
   "cell_type": "markdown",
   "id": "exterior-background",
   "metadata": {
    "slideshow": {
     "slide_type": "fragment"
    }
   },
   "source": [
    "Why?"
   ]
  },
  {
   "cell_type": "markdown",
   "id": "printable-union",
   "metadata": {
    "slideshow": {
     "slide_type": "fragment"
    }
   },
   "source": [
    "- Better lower bound for $\\log p(x|\\theta)$"
   ]
  },
  {
   "cell_type": "markdown",
   "id": "indonesian-sport",
   "metadata": {
    "slideshow": {
     "slide_type": "fragment"
    }
   },
   "source": [
    "- If gap is small enough we can report it to compare models"
   ]
  },
  {
   "cell_type": "markdown",
   "id": "reflected-regard",
   "metadata": {
    "slideshow": {
     "slide_type": "slide"
    }
   },
   "source": [
    "Drawbacks?"
   ]
  },
  {
   "cell_type": "markdown",
   "id": "palestinian-lemon",
   "metadata": {
    "slideshow": {
     "slide_type": "fragment"
    }
   },
   "source": [
    "- This loss is hard and slow to train"
   ]
  },
  {
   "cell_type": "markdown",
   "id": "palestinian-lesson",
   "metadata": {
    "slideshow": {
     "slide_type": "slide"
    }
   },
   "source": [
    "$\\exists q: L_{k}(q, \\theta) = L(q, \\theta)?$"
   ]
  },
  {
   "cell_type": "markdown",
   "id": "nuclear-strengthening",
   "metadata": {
    "slideshow": {
     "slide_type": "fragment"
    }
   },
   "source": [
    "<img src=\"pics/q_ew.jpg\" width=900 height=900 />"
   ]
  },
  {
   "cell_type": "markdown",
   "id": "casual-disposal",
   "metadata": {
    "slideshow": {
     "slide_type": "slide"
    }
   },
   "source": [
    "<img src=\"pics/q_ew_sampling.jpg\" width=600 height=600 />"
   ]
  },
  {
   "cell_type": "markdown",
   "id": "departmental-credit",
   "metadata": {
    "slideshow": {
     "slide_type": "fragment"
    }
   },
   "source": [
    "<img src=\"pics/q_ew_results.jpg\" width=900 height=900 />"
   ]
  }
 ],
 "metadata": {
  "celltoolbar": "Slideshow",
  "kernelspec": {
   "display_name": "Python 3",
   "language": "python",
   "name": "python3"
  },
  "language_info": {
   "codemirror_mode": {
    "name": "ipython",
    "version": 3
   },
   "file_extension": ".py",
   "mimetype": "text/x-python",
   "name": "python",
   "nbconvert_exporter": "python",
   "pygments_lexer": "ipython3",
   "version": "3.8.5"
  }
 },
 "nbformat": 4,
 "nbformat_minor": 5
}
