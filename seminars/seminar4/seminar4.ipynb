{
 "cells": [
  {
   "cell_type": "markdown",
   "id": "amber-humidity",
   "metadata": {
    "slideshow": {
     "slide_type": "slide"
    }
   },
   "source": [
    "# <center>Deep Generative Models</center>\n",
    "## <center>Seminar 4</center>\n",
    "\n",
    "<center><img src=\"pics/ozonmasterslogo.png\" width=600 height=600 /></center>\n",
    "<center>04.03.2021</center>\n"
   ]
  },
  {
   "cell_type": "markdown",
   "id": "thick-debate",
   "metadata": {
    "slideshow": {
     "slide_type": "slide"
    }
   },
   "source": [
    "## VAE\n",
    "\n",
    "<img src=\"pics/vae-gaussian.png\" width=800 height=800 />"
   ]
  },
  {
   "cell_type": "markdown",
   "id": "empty-excuse",
   "metadata": {
    "slideshow": {
     "slide_type": "fragment"
    }
   },
   "source": [
    "$L(q, \\theta) = \\mathbb{E}_{q} \\ln p(x|z, \\theta) - KL(q(z)||p(z))$"
   ]
  },
  {
   "cell_type": "markdown",
   "id": "equivalent-turning",
   "metadata": {
    "slideshow": {
     "slide_type": "fragment"
    }
   },
   "source": [
    "$p(x) = \\int p(x|z)p(z)dz = \\mathbb{E}_{z\\sim p(z)} p(x|z) \\approx \\dfrac{1}{K}\\sum_k p(x|z_k)$"
   ]
  },
  {
   "cell_type": "markdown",
   "id": "accessory-upper",
   "metadata": {
    "slideshow": {
     "slide_type": "slide"
    }
   },
   "source": [
    "## EM\n",
    "\n",
    "<img src=\"pics/EM_lection.jpg\" width=600 height=600 />"
   ]
  }
 ],
 "metadata": {
  "celltoolbar": "Slideshow",
  "kernelspec": {
   "display_name": "Python 3",
   "language": "python",
   "name": "python3"
  },
  "language_info": {
   "codemirror_mode": {
    "name": "ipython",
    "version": 3
   },
   "file_extension": ".py",
   "mimetype": "text/x-python",
   "name": "python",
   "nbconvert_exporter": "python",
   "pygments_lexer": "ipython3",
   "version": "3.8.5"
  }
 },
 "nbformat": 4,
 "nbformat_minor": 5
}
