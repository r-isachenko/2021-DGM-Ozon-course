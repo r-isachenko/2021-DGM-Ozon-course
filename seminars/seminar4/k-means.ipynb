{
 "cells": [
  {
   "cell_type": "code",
   "execution_count": 1,
   "id": "swiss-malawi",
   "metadata": {},
   "outputs": [],
   "source": [
    "%config Completer.use_jedi = False"
   ]
  },
  {
   "cell_type": "code",
   "execution_count": 2,
   "id": "ultimate-platform",
   "metadata": {},
   "outputs": [],
   "source": [
    "import numpy as np\n",
    "from sklearn.datasets import make_blobs\n",
    "import matplotlib.pyplot as plt\n",
    "import pandas as pd\n",
    "\n",
    "%matplotlib inline"
   ]
  },
  {
   "cell_type": "code",
   "execution_count": 3,
   "id": "listed-handling",
   "metadata": {},
   "outputs": [],
   "source": [
    "X, y = make_blobs(n_samples=100, n_features=2, centers=4, cluster_std=3)"
   ]
  },
  {
   "cell_type": "code",
   "execution_count": 4,
   "id": "random-disorder",
   "metadata": {},
   "outputs": [],
   "source": [
    "def plot_state(X, clusters=None, centers=None, title=None):\n",
    "        plt.scatter(X[:, 0], X[:, 1], c=clusters)\n",
    "        if centers is not None:\n",
    "            plt.scatter(centers[:, 0], centers[:, 1], c='r', s=70)\n",
    "        plt.grid()\n",
    "        if title is not None:\n",
    "            plt.title(title)\n",
    "            \n",
    "        plt.show()"
   ]
  },
  {
   "cell_type": "code",
   "execution_count": 5,
   "id": "multiple-morrison",
   "metadata": {},
   "outputs": [],
   "source": [
    "X, y = make_blobs(n_samples=100, n_features=2, centers=4, cluster_std=2)"
   ]
  },
  {
   "cell_type": "code",
   "execution_count": 16,
   "id": "lasting-importance",
   "metadata": {},
   "outputs": [],
   "source": [
    "# step 0 - init params\n",
    "centers = np.random.randn(k, X.shape[1])*4"
   ]
  }
 ],
 "metadata": {
  "kernelspec": {
   "display_name": "Python 3",
   "language": "python",
   "name": "python3"
  },
  "language_info": {
   "codemirror_mode": {
    "name": "ipython",
    "version": 3
   },
   "file_extension": ".py",
   "mimetype": "text/x-python",
   "name": "python",
   "nbconvert_exporter": "python",
   "pygments_lexer": "ipython3",
   "version": "3.8.5"
  }
 },
 "nbformat": 4,
 "nbformat_minor": 5
}
